{
 "cells": [
  {
   "cell_type": "code",
   "execution_count": 255,
   "metadata": {},
   "outputs": [
    {
     "name": "stdout",
     "output_type": "stream",
     "text": [
      "0.992410648736\n"
     ]
    }
   ],
   "source": [
    "import pandas as pd\n",
    "import numpy as np\n",
    "import os\n",
    "from matplotlib import pyplot as plt\n",
    "from sklearn.ensemble import RandomForestRegressor as RF\n",
    "from sklearn.linear_model import LinearRegression\n",
    "from sklearn.model_selection import train_test_split\n",
    "from sklearn.ensemble import RandomForestRegressor as RF\n",
    "%matplotlib inline\n",
    "\n",
    "train_path = 'C://Users//lenovo//Desktop//Docs//ZS//dataset'\n",
    "os.chdir(train_path)\n",
    "\n",
    "train = pd.read_csv('yds_train2018.csv')\n",
    "test = pd.read_csv('yds_test2018.csv')\n",
    "promotional_expense = pd.read_csv('promotional_expense.csv')\n",
    "holidays = pd.read_excel('holidays.xlsx', sheet_name = None)\n",
    "sample = pd.read_csv('sample_submission.csv')\n",
    "\n",
    "promotional = promotional_expense.groupby(['Month', 'Year', 'Country'], as_index = False)['Expense_Price'].sum()\n",
    "train_by_month = train.groupby(['Year', 'Month', 'Product_ID', 'Country'], as_index = False)['Sales'].sum()\n",
    "\n",
    "train_size = train_by_month.shape[0]\n",
    "all_data = pd.concat([train_by_month, test.drop(['S_No'], axis = 1)], axis = 0)\n",
    "\n",
    "def dateConverter(date):\n",
    "    l = list(map(int, date.split(',')))\n",
    "    return l[0], l[1], l[2]\n",
    "\n",
    "holidays[['yr', 'mn', 'dt']] = holidays['Date'].apply(dateConverter).apply(pd.Series)\n",
    "data_expense = pd.merge(all_data, promotional, how = 'left', on = ['Month', 'Year', 'Country'])\n",
    "holidays['Date'], holidays['Month'], holidays['Year'] = holidays['dt'], holidays['mn'], holidays['yr']\n",
    "holidays_count = holidays.groupby(['Year', 'Month', 'Country'], as_index = False)['Holiday'].count()\n",
    "\n",
    "data_expense_hol = pd.merge(data_expense, holidays_count, how = 'left', on = ['Month', 'Year', 'Country'])\n",
    "\n",
    "data_expense_hol['Holiday'].fillna(0, inplace = True)\n",
    "\n",
    "data_expense_hol['Country'] = pd.get_dummies(data_expense_hol['Country'])\n",
    "data_expense_hol['Month'] = pd.get_dummies(data_expense_hol['Month'])\n",
    "data_expense_hol['Product_ID'] = pd.get_dummies(data_expense_hol['Product_ID'])\n",
    "\n",
    "train_data = data_expense_hol[:388]\n",
    "test_data = data_expense_hol[388:]\n",
    "\n",
    "clf1 = LinearRegression()\n",
    "clf1.fit(train_data.drop(['Sales'], axis = 1), train_data['Sales'])\n",
    "clf1.score(train_data.drop(['Sales'], axis = 1), train_data['Sales'])\n",
    "pred = clf1.predict(test_data.drop(['Sales'], axis = 1))\n",
    "test['Sales'] = pred\n",
    "test.to_csv('linear.csv')\n",
    "\n",
    "clf2 = RF(n_estimators = 100, max_depth = 7)\n",
    "clf2.fit(train_data.drop(['Sales', 'Year'], axis = 1), train_data['Sales'])\n",
    "print(clf2.score(train_data.drop(['Sales', 'Year'], axis = 1), train_data['Sales']))\n",
    "pred = clf2.predict(test_data.drop(['Sales', 'Year'], axis = 1))\n",
    "test['Sales'] = pred\n",
    "test.to_csv('random2.csv')\n",
    "def SMAPE(x, y):\n",
    "    return np.average(abs(x - y)/((abs(x) + abs(y))/2)) * 100\n"
   ]
  },
  {
   "cell_type": "code",
   "execution_count": null,
   "metadata": {
    "collapsed": true
   },
   "outputs": [],
   "source": []
  }
 ],
 "metadata": {
  "kernelspec": {
   "display_name": "Python 3",
   "language": "python",
   "name": "python3"
  },
  "language_info": {
   "codemirror_mode": {
    "name": "ipython",
    "version": 3
   },
   "file_extension": ".py",
   "mimetype": "text/x-python",
   "name": "python",
   "nbconvert_exporter": "python",
   "pygments_lexer": "ipython3",
   "version": "3.6.3"
  }
 },
 "nbformat": 4,
 "nbformat_minor": 2
}
